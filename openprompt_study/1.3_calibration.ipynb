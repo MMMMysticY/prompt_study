{
 "cells": [
  {
   "cell_type": "markdown",
   "source": [
    "# Calibration\n",
    "这个任务不是很明白 似乎是把目标的映射关系进行缩减\n",
    "主要的api是：\n",
    "cc_logits = calibrate(prompt_model, support_dataloader)\n",
    "verbalizer.register_calibrate_logits(logits=cc_logits)"
   ],
   "metadata": {
    "collapsed": false,
    "pycharm": {
     "name": "#%% md\n"
    }
   }
  },
  {
   "cell_type": "code",
   "execution_count": 1,
   "outputs": [],
   "source": [
    "from tqdm import tqdm\n",
    "from openprompt.data_utils.text_classification_dataset import AgnewsProcessor\n",
    "import torch\n",
    "from openprompt.data_utils.utils import InputExample"
   ],
   "metadata": {
    "collapsed": false,
    "pycharm": {
     "name": "#%%\n"
    }
   }
  },
  {
   "cell_type": "code",
   "execution_count": 2,
   "outputs": [
    {
     "data": {
      "text/plain": "'/home/wy/OpenPrompt/datasets/TextClassification/agnews'"
     },
     "execution_count": 2,
     "metadata": {},
     "output_type": "execute_result"
    }
   ],
   "source": [
    "data_path = '/home/wy/OpenPrompt/datasets/TextClassification/agnews'\n",
    "data_path"
   ],
   "metadata": {
    "collapsed": false,
    "pycharm": {
     "name": "#%%\n"
    }
   }
  },
  {
   "cell_type": "code",
   "execution_count": 3,
   "outputs": [],
   "source": [
    "dataset = dict()\n",
    "dataset['train'] = AgnewsProcessor().get_train_examples(data_dir=data_path)\n",
    "dataset['test'] = AgnewsProcessor().get_test_examples(data_dir=data_path)"
   ],
   "metadata": {
    "collapsed": false,
    "pycharm": {
     "name": "#%%\n"
    }
   }
  },
  {
   "cell_type": "code",
   "execution_count": 28,
   "outputs": [
    {
     "data": {
      "text/plain": "{\n  \"guid\": \"0\",\n  \"label\": 2,\n  \"meta\": {},\n  \"text_a\": \"Wall St. Bears Claw Back Into the Black (Reuters)\",\n  \"text_b\": \"Reuters - Short-sellers, Wall Street's dwindling band of ultra-cynics, are seeing green again.\",\n  \"tgt_text\": null\n}"
     },
     "execution_count": 28,
     "metadata": {},
     "output_type": "execute_result"
    }
   ],
   "source": [
    "dataset['train'][0]"
   ],
   "metadata": {
    "collapsed": false,
    "pycharm": {
     "name": "#%%\n"
    }
   }
  },
  {
   "cell_type": "code",
   "execution_count": 4,
   "outputs": [],
   "source": [
    "from openprompt.plms import load_plm"
   ],
   "metadata": {
    "collapsed": false,
    "pycharm": {
     "name": "#%%\n"
    }
   }
  },
  {
   "cell_type": "code",
   "execution_count": 5,
   "outputs": [],
   "source": [
    "plm, tokenizer, model_config, WrapperClass = load_plm(\"roberta\",\"roberta-large\")"
   ],
   "metadata": {
    "collapsed": false,
    "pycharm": {
     "name": "#%%\n"
    }
   }
  },
  {
   "cell_type": "code",
   "execution_count": 6,
   "outputs": [],
   "source": [
    "template_path = '/home/wy/OpenPrompt/scripts/TextClassification/agnews/manual_template.txt'"
   ],
   "metadata": {
    "collapsed": false,
    "pycharm": {
     "name": "#%%\n"
    }
   }
  },
  {
   "cell_type": "code",
   "execution_count": 7,
   "outputs": [],
   "source": [
    "from openprompt.prompts import ManualTemplate"
   ],
   "metadata": {
    "collapsed": false,
    "pycharm": {
     "name": "#%%\n"
    }
   }
  },
  {
   "cell_type": "code",
   "execution_count": 8,
   "outputs": [],
   "source": [
    "my_template = ManualTemplate(tokenizer=tokenizer).from_file(path=template_path, choice=0)"
   ],
   "metadata": {
    "collapsed": false,
    "pycharm": {
     "name": "#%%\n"
    }
   }
  },
  {
   "cell_type": "code",
   "execution_count": 9,
   "outputs": [
    {
     "data": {
      "text/plain": "[{'add_prefix_space': ' ', 'text': 'A'},\n {'add_prefix_space': ' ', 'mask': None},\n {'add_prefix_space': ' ', 'text': 'news :'},\n {'add_prefix_space': ' ', 'placeholder': 'text_a'},\n {'add_prefix_space': ' ', 'placeholder': 'text_b'}]"
     },
     "execution_count": 9,
     "metadata": {},
     "output_type": "execute_result"
    }
   ],
   "source": [
    "my_template.text"
   ],
   "metadata": {
    "collapsed": false,
    "pycharm": {
     "name": "#%%\n"
    }
   }
  },
  {
   "cell_type": "code",
   "execution_count": 10,
   "outputs": [],
   "source": [
    "from openprompt import PromptDataLoader"
   ],
   "metadata": {
    "collapsed": false,
    "pycharm": {
     "name": "#%%\n"
    }
   }
  },
  {
   "cell_type": "code",
   "execution_count": 11,
   "outputs": [],
   "source": [
    "from openprompt.prompts import ManualVerbalizer, KnowledgeableVerbalizer"
   ],
   "metadata": {
    "collapsed": false,
    "pycharm": {
     "name": "#%%\n"
    }
   }
  },
  {
   "cell_type": "code",
   "execution_count": 12,
   "outputs": [],
   "source": [
    "verbalizer_path = '/home/wy/OpenPrompt/scripts/TextClassification/agnews/knowledgeable_verbalizer.txt'"
   ],
   "metadata": {
    "collapsed": false,
    "pycharm": {
     "name": "#%%\n"
    }
   }
  },
  {
   "cell_type": "code",
   "execution_count": 13,
   "outputs": [
    {
     "name": "stdout",
     "output_type": "stream",
     "text": [
      "##Num of label words for each label: [376, 350, 287, 366]\n"
     ]
    }
   ],
   "source": [
    "my_verbalizer = KnowledgeableVerbalizer(tokenizer=tokenizer, num_classes=4).from_file(verbalizer_path)\n",
    "# 从文件中导入Verbalizer"
   ],
   "metadata": {
    "collapsed": false,
    "pycharm": {
     "name": "#%%\n"
    }
   }
  },
  {
   "cell_type": "code",
   "execution_count": 14,
   "outputs": [],
   "source": [
    "from openprompt.data_utils.data_sampler import FewShotSampler\n",
    "support_sampler = FewShotSampler(num_examples_total=200, also_sample_dev=False)\n",
    "dataset['support'] = support_sampler(dataset['train'], seed=1)"
   ],
   "metadata": {
    "collapsed": false,
    "pycharm": {
     "name": "#%%\n"
    }
   }
  },
  {
   "cell_type": "code",
   "execution_count": 15,
   "outputs": [
    {
     "name": "stdout",
     "output_type": "stream",
     "text": [
      "120000\n",
      "7600\n",
      "200\n"
     ]
    }
   ],
   "source": [
    "print(len(dataset['train']))\n",
    "print(len(dataset['test']))\n",
    "print(len(dataset['support']))"
   ],
   "metadata": {
    "collapsed": false,
    "pycharm": {
     "name": "#%%\n"
    }
   }
  },
  {
   "cell_type": "code",
   "execution_count": 16,
   "outputs": [
    {
     "name": "stderr",
     "output_type": "stream",
     "text": [
      "tokenizing: 200it [00:00, 683.10it/s]\n"
     ]
    }
   ],
   "source": [
    "for example in dataset['support']:\n",
    "    example.label = -1  # 移除真实label\n",
    "support_dataloader = PromptDataLoader(dataset=dataset['support'], template=my_template, tokenizer=tokenizer,tokenizer_wrapper_class=WrapperClass,\n",
    "                                      max_seq_length=512, decoder_max_length=3, batch_size=5, shuffle=False, teacher_forcing=False, predict_eos_token=False,\n",
    "                                      truncate_method='tail')"
   ],
   "metadata": {
    "collapsed": false,
    "pycharm": {
     "name": "#%%\n"
    }
   }
  },
  {
   "cell_type": "code",
   "execution_count": 17,
   "outputs": [],
   "source": [
    "from openprompt import PromptForClassification"
   ],
   "metadata": {
    "collapsed": false,
    "pycharm": {
     "name": "#%%\n"
    }
   }
  },
  {
   "cell_type": "code",
   "execution_count": 18,
   "outputs": [],
   "source": [
    "use_cuda = True\n",
    "prompt_model = PromptForClassification(plm=plm, template=my_template, verbalizer=my_verbalizer, freeze_plm=False)\n",
    "if use_cuda:\n",
    "    prompt_model = prompt_model.cuda()"
   ],
   "metadata": {
    "collapsed": false,
    "pycharm": {
     "name": "#%%\n"
    }
   }
  },
  {
   "cell_type": "code",
   "execution_count": 19,
   "outputs": [
    {
     "data": {
      "text/plain": "[[' politics',\n  ' government',\n  ' diplomatic',\n  ' law',\n  ' aristotle',\n  ' diplomatical',\n  ' governance',\n  ' republic',\n  ' politician',\n  ' smooth',\n  ' suave',\n  ' state',\n  ' expedient',\n  ' sagacious',\n  ' police',\n  ' election',\n  ' political',\n  ' monarchy',\n  ' parliament',\n  ' dukes',\n  ' polity',\n  ' regime',\n  ' democratic',\n  ' ethics',\n  ' communism',\n  ' federation',\n  ' anarchism',\n  ' authoritarianism',\n  ' populism',\n  ' bland',\n  ' aristocracy',\n  ' tribe',\n  ' power',\n  ' negotiation',\n  ' force',\n  ' warfare',\n  ' city',\n  ' clans',\n  ' tribes',\n  ' company',\n  ' country',\n  ' plato',\n  ' confucius',\n  ' latin',\n  ' polis',\n  ' kingship',\n  ' earls',\n  ' counts',\n  ' tribute',\n  ' lordship',\n  ' property',\n  ' inheritance',\n  ' confiscation',\n  ' individualist',\n  ' allegiance',\n  ' espionage',\n  ' conspiracy',\n  ' treason',\n  ' jewish',\n  ' gentile',\n  ' convention',\n  ' observance',\n  ' celibacy',\n  ' pope',\n  ' taxation',\n  ' petition',\n  ' legislation',\n  ' majority',\n  ' collegial',\n  ' permeates',\n  ' flabby',\n  ' policy',\n  ' governmental',\n  ' pervades',\n  ' abstract',\n  ' straitjacket',\n  ' justice',\n  ' myopic',\n  ' discernment',\n  ' curfew',\n  ' consciences',\n  ' revenue',\n  ' pervade',\n  ' matriarchal',\n  ' numbed',\n  ' juridical',\n  ' rightness',\n  ' unaccountable',\n  ' clannish',\n  ' deliberative',\n  ' monopoly',\n  ' fatness',\n  ' paternalism',\n  ' monkish',\n  ' coin',\n  ' principle',\n  ' sinfulness',\n  ' morass',\n  ' permeate',\n  ' stuffy',\n  ' timorous',\n  ' meddles',\n  ' factious',\n  ' disentangle',\n  ' grayness',\n  ' etheric',\n  ' blandness',\n  ' indigent',\n  ' expediency',\n  ' comity',\n  ' unclothed',\n  ' subjectivity',\n  ' transitory',\n  ' guild',\n  ' cesspool',\n  ' psyche',\n  ' quicksand',\n  ' egoism',\n  ' diplomat',\n  ' colonies',\n  ' agreement',\n  ' profit',\n  ' policy-making',\n  ' education',\n  ' democracy',\n  ' debate',\n  ' anarchy',\n  ' executive',\n  ' humorless',\n  ' colorblind',\n  ' monarchies',\n  ' psychodrama',\n  ' self-perpetuating',\n  ' piercer',\n  ' clubby',\n  ' reflation',\n  ' nontransparent',\n  ' kafkaesque',\n  ' postindustrial',\n  ' democracies',\n  ' unsustainability',\n  ' socialism',\n  ' oligarchies',\n  ' self-regulating',\n  ' hidebound',\n  ' nonideological',\n  ' wrongness',\n  ' tyrannies',\n  ' dispassion',\n  ' clinton',\n  ' governor',\n  ' senate',\n  ' squishy',\n  ' soviet',\n  ' heteronormative',\n  ' administration',\n  ' corporatism',\n  ' metabolizes',\n  ' covenantal',\n  ' microbiota',\n  ' shapers',\n  ' solipsistic',\n  ' originalism',\n  ' seven-man',\n  ' empowerment',\n  ' standard-setting',\n  ' groupthink',\n  ' bureaucracy',\n  ' sovereignty',\n  ' 146-nation',\n  ' autocracy',\n  ' constitutions',\n  ' president',\n  ' imperialism',\n  ' privatization',\n  ' restoration',\n  ' presidential',\n  ' preside',\n  ' manifesto',\n  ' interpol',\n  ' france',\n  ' minimalist',\n  ' crafty',\n  ' mastermind',\n  ' federal',\n  ' racketeer',\n  ' campaigner',\n  ' australia',\n  ' contract',\n  ' capitalism',\n  ' administrative',\n  ' presidency',\n  ' ombudsman',\n  ' confederation',\n  ' generalissimo',\n  ' fiefdom',\n  ' officer',\n  ' senator',\n  ' ceo',\n  ' autocratic',\n  ' financier',\n  ' secede',\n  ' timocracy',\n  ' anarchist',\n  ' manipulative',\n  ' civilization',\n  ' civil',\n  ' artifice',\n  ' bloc',\n  ' suzerainty',\n  ' politicize',\n  ' issue',\n  ' multinational',\n  ' shrewd',\n  ' politricks',\n  ' liberalism',\n  ' warden',\n  ' privatize',\n  ' dishonest',\n  ' federalization',\n  ' govern',\n  ' tenderpreneur',\n  ' treasurer',\n  ' authority',\n  ' international',\n  ' separatism',\n  ' expert',\n  ' statesperson',\n  ' economist',\n  ' chancellor',\n  ' commissioner',\n  ' guile',\n  ' neocolonialism',\n  ' impolitic',\n  ' politik',\n  ' papacy',\n  ' socio',\n  ' posturing',\n  ' discourse',\n  ' politico',\n  ' chomsky',\n  ' democrats',\n  ' crist',\n  ' polemics',\n  ' hegelian',\n  ' religio',\n  ' politicians',\n  ' elites',\n  ' quietism',\n  ' theo',\n  ' circumlocution',\n  ' parliamentary',\n  ' sayers',\n  ' roguery',\n  ' sociopolitical',\n  ' bonapartist',\n  ' moralize',\n  ' reactionary',\n  ' religionist',\n  ' egotistic',\n  ' pragmatics',\n  ' contestation',\n  ' apolitical',\n  ' raison',\n  ' poli',\n  ' pols',\n  ' intelligentsia',\n  ' viler',\n  ' hausa',\n  ' jurisdiction',\n  ' manipulation',\n  ' cabal',\n  ' resourceful',\n  ' democrat',\n  ' judiciary',\n  ' supremacy',\n  ' demagogue',\n  ' controller',\n  ' shrewdness',\n  ' corporatist',\n  ' official',\n  ' socialist',\n  ' wizard',\n  ' dominion',\n  ' supervision',\n  ' skillful',\n  ' organisation',\n  ' cleverness',\n  ' statesman',\n  ' employer',\n  ' undeceive',\n  ' comptroller',\n  ' organization',\n  ' magician',\n  ' mislead',\n  ' rebellion',\n  ' civility',\n  ' reich',\n  ' marxism',\n  ' cosmopolitanism',\n  ' fedzilla',\n  ' neoimperialism',\n  ' leader',\n  ' quango',\n  ' corruption',\n  ' extortion',\n  ' misleader',\n  ' nepotism',\n  ' patronage',\n  ' crossbencher',\n  ' graft',\n  ' mandarinate',\n  ' scienda',\n  ' stateswoman',\n  ' embezzlement',\n  ' presider',\n  ' statocracy',\n  ' politick',\n  ' policial',\n  ' ocracy',\n  ' reformable',\n  ' exclusionism',\n  ' egoistical',\n  ' coopt',\n  ' laic',\n  ' bureaucratize',\n  ' liberalist',\n  ' reactionism',\n  ' confederal',\n  ' popularism',\n  ' delegitimation',\n  ' realpolitik',\n  ' establishmentarian',\n  ' plebiscitary',\n  ' confessionalism',\n  ' demagogical',\n  ' duumvirate',\n  ' ethnocentric',\n  ' coarsen',\n  ' centrism',\n  ' peoplehood',\n  ' ideologic',\n  ' liberalness',\n  ' repub',\n  ' revanchist',\n  ' technocracy',\n  ' balkanise',\n  ' conscionable',\n  ' christianism',\n  ' contradictive',\n  ' mobocracy',\n  ' equalitarian',\n  ' sermonise',\n  ' mudslinger',\n  ' sloganeer',\n  ' technocratic',\n  ' biopolitics',\n  ' megalomanic',\n  ' westernism',\n  ' passivism',\n  ' russophile',\n  ' falsifiable',\n  ' u.s.s.r.',\n  ' presidium',\n  ' nativism',\n  ' elections',\n  ' misinform',\n  ' nationalise',\n  ' ideology',\n  ' constitutionalization',\n  ' disenchant',\n  ' coalition',\n  ' cronyism',\n  ' influence',\n  ' hobbes',\n  ' kleptocracy'],\n [' sports',\n  ' athletics',\n  ' gymnastics',\n  ' sportsman',\n  ' competition',\n  ' cycling',\n  ' soccer',\n  ' tennis',\n  ' game',\n  ' downfield',\n  ' offside',\n  ' judo',\n  ' polo',\n  ' team',\n  ' skiing',\n  ' hockey',\n  ' baseball',\n  ' football',\n  ' fun',\n  ' sportswoman',\n  ' play',\n  ' rugby',\n  ' basketball',\n  ' call',\n  ' spar',\n  ' kill',\n  ' referee',\n  ' ineligible',\n  ' wipeout',\n  ' schuss',\n  ' luge',\n  ' archery',\n  ' upfield',\n  ' funambulism',\n  ' toboggan',\n  ' skateboard',\n  ' jackknife',\n  ' ski',\n  ' rollerblade',\n  ' boast',\n  ' mutation',\n  ' lark',\n  ' frolic',\n  ' frisk',\n  ' skylark',\n  ' gambol',\n  ' feature',\n  ' disport',\n  ' mutant',\n  ' romp',\n  ' cavort',\n  ' rollick',\n  ' coach',\n  ' volleyball',\n  ' athletic',\n  ' sumo',\n  ' television',\n  ' sportsmanship',\n  ' pastime',\n  ' badminton',\n  ' chess',\n  ' position',\n  ' sportaccord',\n  ' equestrianism',\n  ' sportsperson',\n  ' athlete',\n  ' competitions',\n  ' golf',\n  ' coaches',\n  ' wrestling',\n  ' cricket',\n  ' championships',\n  ' racers',\n  ' challenge',\n  ' motocross',\n  ' leagues',\n  ' variation',\n  ' boxing',\n  ' summercater',\n  ' entertainment',\n  ' tournament',\n  ' champion',\n  ' season',\n  ' playoffs',\n  ' athleticism',\n  ' dexterity',\n  ' foul',\n  ' jog',\n  ' handler',\n  ' box',\n  ' defense',\n  ' defence',\n  ' trial',\n  ' series',\n  ' cut',\n  ' side',\n  ' english',\n  ' tuck',\n  ' canoe',\n  ' dribble',\n  ' possession',\n  ' bob',\n  ' stroke',\n  ' shot',\n  ' equitation',\n  ' row',\n  ' aquatics',\n  ' recreation',\n  ' diversion',\n  ' toss',\n  ' pass',\n  ' flip',\n  ' occupation',\n  ' line',\n  ' job',\n  ' paddle',\n  ' carry',\n  ' surf',\n  ' racket',\n  ' drive',\n  ' surfboard',\n  ' punt',\n  ' onside',\n  ' kick',\n  ' submarine',\n  ' bandy',\n  ' kayak',\n  ' drop',\n  ' pack',\n  ' umpire',\n  ' backpack',\n  ' scull',\n  ' snorkel',\n  ' shoot',\n  ' rappel',\n  ' field',\n  ' mountaineer',\n  ' start',\n  ' curl',\n  ' underarm',\n  ' seed',\n  ' surge',\n  ' turn',\n  ' underhand',\n  ' underhanded',\n  ' round',\n  ' bout',\n  ' hurdle',\n  ' average',\n  ' sleigh',\n  ' loose',\n  ' overhand',\n  ' humor',\n  ' legal',\n  ' humour',\n  ' wit',\n  ' lead',\n  ' hike',\n  ' deficit',\n  ' timer',\n  ' witticism',\n  ' jocularity',\n  ' timekeeper',\n  ' shooter',\n  ' scout',\n  ' home',\n  ' ref',\n  ' ironman',\n  ' skate',\n  ' manager',\n  ' comedy',\n  ' sportive',\n  ' lacrosse',\n  ' tradition',\n  ' goal',\n  ' biathlon',\n  ' dodgeball',\n  ' leisure',\n  ' floorball',\n  ' soccerplex',\n  ' overarm',\n  ' waggishness',\n  ' jocosity',\n  ' wittiness',\n  ' windsurf',\n  ' abseil',\n  ' skin-dive',\n  ' double-team',\n  ' prizefight',\n  ' outclass',\n  ' shadowbox',\n  ' birling',\n  ' spread-eagle',\n  ' offsides',\n  ' man-to-man',\n  ' one-on-one',\n  ' most-valuable',\n  ' waggery',\n  ' motorsport',\n  ' sportful',\n  ' sporter',\n  ' gameday',\n  ' sportsaholic',\n  ' nonsports',\n  ' multisport',\n  ' footballer',\n  ' outsport',\n  ' sportless',\n  ' lusorious',\n  ' acrobatic',\n  ' sportlike',\n  ' rugger',\n  ' paddlesport',\n  ' sportsplex',\n  ' gamesome',\n  ' pickleball',\n  ' postseason',\n  ' professional',\n  ' passtime',\n  ' competitive',\n  ' slalom',\n  ' birle',\n  ' skateboarder',\n  ' olympics',\n  ' world',\n  ' racquet',\n  ' compete',\n  ' bowling',\n  ' competes',\n  ' olympic',\n  ' dropkick',\n  ' sportsfield',\n  ' clubs',\n  ' skater',\n  ' formula',\n  ' racer',\n  ' cheerlead',\n  ' pharaoh',\n  ' race',\n  ' minigame',\n  ' athletes',\n  ' recreational',\n  ' bike',\n  ' snowboard',\n  ' bicycle',\n  ' championship',\n  ' motorcycle',\n  ' brand',\n  ' youth',\n  ' nascar',\n  ' iran',\n  ' model',\n  ' f1',\n  ' uci',\n  ' teams',\n  ' puck',\n  ' track',\n  ' racquetball',\n  ' competitor',\n  ' riders',\n  ' postgame',\n  ' subbuteo',\n  ' enthusiasts',\n  ' trashsport',\n  ' popular',\n  ' super',\n  ' games',\n  ' jousting',\n  ' class',\n  ' sponsorship',\n  ' event',\n  ' netball',\n  ' softball',\n  ' models',\n  ' best',\n  ' women',\n  ' amateur',\n  ' association',\n  ' experience',\n  ' peloponnese',\n  ' car',\n  ' venue',\n  ' players',\n  ' roller',\n  ' fia',\n  ' pigskin',\n  ' fit',\n  ' standards',\n  ' drivers',\n  ' european',\n  ' national',\n  ' tour',\n  ' fitness',\n  ' cars',\n  ' esports',\n  ' transgender',\n  ' wogball',\n  ' bucketball',\n  ' tennikoit',\n  ' snowsport',\n  ' nongame',\n  ' gamification',\n  ' subgame',\n  ' nongamer',\n  ' vacationer',\n  ' gameplayer',\n  ' rioting',\n  ' gaymer',\n  ' sportsbook',\n  ' hooliganism',\n  ' zourkhaneh',\n  ' gameography',\n  ' watersport',\n  ' fanwear',\n  ' cross-country',\n  ' soccerball',\n  ' wintersports',\n  ' woodball',\n  ' concussion',\n  ' disability',\n  ' motorsports',\n  ' interscholastic',\n  ' tournaments',\n  ' korfball',\n  ' triathlon',\n  ' intercollegiate',\n  ' paralympic',\n  ' olympian',\n  ' bullfighting',\n  ' boxers',\n  ' subculture',\n  ' crosscountry',\n  ' mma',\n  ' equestrian',\n  ' wage',\n  ' salary',\n  ' indoors',\n  ' pay-per-view',\n  ' fina',\n  ' nonresident',\n  ' spectatorship',\n  ' waterpolo',\n  ' bloodsport',\n  ' bobsledding',\n  ' tourn',\n  ' riflery',\n  ' alpinism',\n  ' bundesliga',\n  ' nfl',\n  ' fanatic'],\n [' business',\n  ' commerce',\n  ' trade',\n  ' market',\n  ' retail',\n  ' traffic',\n  ' commercial',\n  ' marketing',\n  ' exchange',\n  ' sell',\n  ' deal',\n  ' export',\n  ' shop',\n  ' transportation',\n  ' finance',\n  ' barter',\n  ' noncommercial',\n  ' resell',\n  ' mercantilism',\n  ' arbitrage',\n  ' commercialism',\n  ' commercialize',\n  ' wholesale',\n  ' negociate',\n  ' transaction',\n  ' merchandise',\n  ' transact',\n  ' auctioneer',\n  ' doc',\n  ' smuggle',\n  ' import',\n  ' deaccession',\n  ' importation',\n  ' merchant',\n  ' merchandising',\n  ' mercantile',\n  ' trading',\n  ' sale',\n  ' exportation',\n  ' e-commerce',\n  ' affairs',\n  ' goods',\n  ' commodity',\n  ' agriculture',\n  ' resources',\n  ' tourism',\n  ' telecommunications',\n  ' economic',\n  ' consumer',\n  ' agricultural',\n  ' banking',\n  ' communications',\n  ' industries',\n  ' globalization',\n  ' trader',\n  ' consumers',\n  ' seller',\n  ' resale',\n  ' vendor',\n  ' huckster',\n  ' shipping',\n  ' broker',\n  ' pawn',\n  ' ipo',\n  ' hock',\n  ' interchange',\n  ' transport',\n  ' evasion',\n  ' distribution',\n  ' antique',\n  ' purchase',\n  ' conversation',\n  ' franchise',\n  ' noaa',\n  ' clear',\n  ' auction',\n  ' browse',\n  ' trust',\n  ' soak',\n  ' stock',\n  ' remainder',\n  ' payment',\n  ' dealings',\n  ' realise',\n  ' prehistoric',\n  ' retailer',\n  ' peddle',\n  ' basketry',\n  ' tradesman',\n  ' vendible',\n  ' simony',\n  ' mercature',\n  ' tradeful',\n  ' untradeable',\n  ' tradesfolk',\n  ' tradable',\n  ' swap',\n  ' mercat',\n  ' dicker',\n  ' untraded',\n  ' mart',\n  ' oversold',\n  ' dealer',\n  ' transactive',\n  ' intertraffic',\n  ' dressmaking',\n  ' marketable',\n  ' hanse',\n  ' venal',\n  ' monger',\n  ' vend',\n  ' hoppo',\n  ' troak',\n  ' marketplace',\n  ' cybercommerce',\n  ' scorse',\n  ' defrayment',\n  ' liquidize',\n  ' comparison-shop',\n  ' impulse-buy',\n  ' commercialise',\n  ' defrayal',\n  ' nonpayment',\n  ' usance',\n  ' sellable',\n  ' overtrade',\n  ' protrade',\n  ' incoterm',\n  ' faculty',\n  ' bureau',\n  ' self-sufficiency',\n  ' nonexchange',\n  ' pawnbrokery',\n  ' exchangeable',\n  ' chaffer',\n  ' downtick',\n  ' postdeal',\n  ' department',\n  ' cheap',\n  ' tradesperson',\n  ' mastercraftsman',\n  ' carpentry',\n  ' commission',\n  ' cooperage',\n  ' undealt',\n  ' dealy',\n  ' reexchange',\n  ' vice',\n  ' intercourse',\n  ' investment',\n  ' furriery',\n  ' buyer',\n  ' haggle',\n  ' sector',\n  ' merchants',\n  ' sectors',\n  ' forestry',\n  ' office',\n  ' contraband',\n  ' issues',\n  ' general',\n  ' nonmarket',\n  ' bootleg',\n  ' labor',\n  ' marketeer',\n  ' misdeal',\n  ' marketwide',\n  ' enterprises',\n  ' committee',\n  ' china',\n  ' kong',\n  ' hong',\n  ' local',\n  ' higgler',\n  ' circa',\n  ' services',\n  ' planning',\n  ' secretary',\n  ' taiwan',\n  ' oversees',\n  ' shopping',\n  ' markets',\n  ' employment',\n  ' today',\n  ' public',\n  ' ministry',\n  ' press',\n  ' foreign',\n  ' chairman',\n  ' forum',\n  ' rebuy',\n  ' domestic',\n  ' firm',\n  ' butcherdom',\n  ' board',\n  ' regional',\n  ' report',\n  ' economics',\n  ' environment',\n  ' immigration',\n  ' financial',\n  ' institutional',\n  ' firms',\n  ' exchanges',\n  ' customs',\n  ' petroleum',\n  ' corporations',\n  ' xinhua',\n  ' wto',\n  ' currency',\n  ' cornmarket',\n  ' brokering',\n  ' logroll',\n  ' marketman',\n  ' undersell',\n  ' trades',\n  ' handel',\n  ' store',\n  ' excambion',\n  ' peddlery',\n  ' oligopoly',\n  ' cheesemonger',\n  ' act',\n  ' barterer',\n  ' money',\n  ' cybermarket',\n  ' moc',\n  ' woolhall',\n  ' signatures',\n  ' tradecraft',\n  ' comercio',\n  ' commercio',\n  ' entrepreneurship',\n  ' retailing',\n  ' maritime',\n  ' businesses',\n  ' chamber',\n  ' marketplaces',\n  ' arts',\n  ' marts',\n  ' transactions',\n  ' textiles',\n  ' humanities',\n  ' exports',\n  ' lifeblood',\n  ' prosperity',\n  ' portals',\n  ' outbound',\n  ' remittance',\n  ' agri',\n  ' bookselling',\n  ' cyberspace',\n  ' telecom',\n  ' steamboats',\n  ' cultural',\n  ' facilitation',\n  ' businesspeople',\n  ' industrie',\n  ' protectionism',\n  ' gateway',\n  ' unctad',\n  ' floriculture',\n  ' connectivity',\n  ' closeout',\n  ' métier',\n  ' truckman',\n  ' oversell',\n  ' craftsmaster',\n  ' botanica',\n  ' redeal',\n  ' monopsony',\n  ' buyback',\n  ' patela',\n  ' numismatist',\n  ' barkeeping',\n  ' ndrc',\n  ' u.s.',\n  ' commerical',\n  ' usdoc',\n  ' e-business',\n  ' entrepot',\n  ' containerization',\n  ' busi',\n  ' vitalization',\n  ' agrarianism',\n  ' capital',\n  ' corporation'],\n [' technology',\n  ' engineering',\n  ' science',\n  ' biotechnology',\n  ' internet',\n  ' nanotechnology',\n  ' robotics',\n  ' communication',\n  ' computer',\n  ' industry',\n  ' automation',\n  ' wheel',\n  ' technological',\n  ' equipment',\n  ' manufacturing',\n  ' application',\n  ' bionics',\n  ' energy',\n  ' technical',\n  ' ergonomics',\n  ' scientific',\n  ' telephone',\n  ' development',\n  ' dolphin',\n  ' systems',\n  ' software',\n  ' transhumanism',\n  ' electronics',\n  ' digital',\n  ' tech',\n  ' devices',\n  ' tools',\n  ' applications',\n  ' computers',\n  ' capabilities',\n  ' expertise',\n  ' biomedical',\n  ' innovations',\n  ' wireless',\n  ' products',\n  ' solutions',\n  ' management',\n  ' language',\n  ' engineer',\n  ' homo',\n  ' neolithic',\n  ' bioscience',\n  ' scientist',\n  ' biology',\n  ' skill',\n  ' good',\n  ' service',\n  ' knowledge',\n  ' prehistory',\n  ' lever',\n  ' weapon',\n  ' club',\n  ' miniaturization',\n  ' economy',\n  ' pollution',\n  ' value',\n  ' productivity',\n  ' discipline',\n  ' bailiwick',\n  ' machinery',\n  ' source',\n  ' bioengineering',\n  ' subject',\n  ' rocketry',\n  ' sink',\n  ' study',\n  ' primates',\n  ' technologies',\n  ' crowbar',\n  ' spoon',\n  ' neo-luddism',\n  ' anarcho-primitivism',\n  ' ee',\n  ' medicine',\n  ' techno-progressivism',\n  ' physics',\n  ' innovation',\n  ' phenomenal',\n  ' tool',\n  ' formality',\n  ' developed',\n  ' research',\n  ' utility',\n  ' merriam-webster',\n  ' usability',\n  ' electronic',\n  ' safety',\n  ' micro',\n  ' focus',\n  ' mathematics',\n  ' advanced',\n  ' multimedia',\n  ' history',\n  ' system',\n  ' networking',\n  ' electron',\n  ' semiconductor',\n  ' innovative',\n  ' enterprise',\n  ' global',\n  ' hardware',\n  ' uses',\n  ' core',\n  ' product',\n  ' data',\n  ' sophisticated',\n  ' industrial',\n  ' design',\n  ' state-of-the-art',\n  ' makers',\n  ' components',\n  ' use',\n  ' processing',\n  ' hominids',\n  ' cyberculture',\n  ' create',\n  ' information',\n  ' mobile',\n  ' bipedal',\n  ' companies',\n  ' programs',\n  ' creative',\n  ' expand',\n  ' strategy',\n  ' new',\n  ' program',\n  ' generation',\n  ' labs',\n  ' dynamic',\n  ' aims',\n  ' networks',\n  ' enables',\n  ' component',\n  ' capability',\n  ' build',\n  ' specialized',\n  ' wood',\n  ' charcoal',\n  ' clothing',\n  ' genome',\n  ' eurasia',\n  ' deforestation',\n  ' goal-oriented',\n  ' technician',\n  ' nomad',\n  ' uruk',\n  ' sumer',\n  ' hierarchy',\n  ' pseudoscience',\n  ' irrigation',\n  ' neuroscience',\n  ' furnace',\n  ' bellows',\n  ' forge',\n  ' gold',\n  ' metrology',\n  ' copper',\n  ' geology',\n  ' silver',\n  ' evolution',\n  ' alloys',\n  ' bronze',\n  ' brass',\n  ' alchemy',\n  ' steel',\n  ' cyberscience',\n  ' climatology',\n  ' sociology',\n  ' evolve',\n  ' biophysics',\n  ' iraq',\n  ' bionanoscience',\n  ' alchemical',\n  ' evolutionary',\n  ' tribology',\n  ' sedentism',\n  ' silk',\n  ' transformation',\n  ' systematics',\n  ' phrenology',\n  ' superscience',\n  ' technoscience',\n  ' optimization',\n  ' transmutation',\n  ' horseshoe',\n  ' microscopy',\n  ' multiscience',\n  ' developer',\n  ' construction',\n  ' antiscience',\n  ' geophysics',\n  ' proscience',\n  ' transformational',\n  ' demography',\n  ' psychology',\n  ' organon',\n  ' conversion',\n  ' scienceless',\n  ' screw',\n  ' ic',\n  ' chasten',\n  ' geoscience',\n  ' converter',\n  ' metamorphosis',\n  ' pulley',\n  ' fortran',\n  ' cybernetics',\n  ' nonscience',\n  ' transform',\n  ' wheelbarrow',\n  ' architectonics',\n  ' transformer',\n  ' sciencelike',\n  ' windmill',\n  ' radiography',\n  ' transmute',\n  ' agronomy',\n  ' clock',\n  ' glycoscience',\n  ' mutate',\n  ' convert',\n  ' technique',\n  ' complicate',\n  ' hydroscience',\n  ' mcscience',\n  ' theoretician',\n  ' genetics',\n  ' environmental',\n  ' physic',\n  ' assimilate',\n  ' metamorphic',\n  ' mining',\n  ' physiology',\n  ' metallurgy',\n  ' interoperable',\n  ' liberalize',\n  ' innovate',\n  ' electrochemistry',\n  ' biologist',\n  ' change',\n  ' biological',\n  ' ecological',\n  ' deaden',\n  ' reform',\n  ' metaphysics',\n  ' electricity',\n  ' agrobiology',\n  ' photoscience',\n  ' decarboxylate',\n  ' flight',\n  ' complexify',\n  ' ology',\n  ' chemistry',\n  ' acetylate',\n  ' volatilize',\n  ' skyscraper',\n  ' transaminate',\n  ' motor',\n  ' logy',\n  ' telegraph',\n  ' biometrics',\n  ' technologists',\n  ' microelectronics',\n  ' innovators',\n  ' holography',\n  ' algorithms',\n  ' informatics',\n  ' diagnostics',\n  ' pbc',\n  ' nano',\n  ' inventions',\n  ' sapir',\n  ' startups',\n  ' methodologies',\n  ' telematics',\n  ' functionality',\n  ' gadgets',\n  ' ione',\n  ' biomedicine',\n  ' interfaces',\n  ' prognostics',\n  ' semiconductors',\n  ' cryptography',\n  ' ignis',\n  ' geospatial',\n  ' cryogenics',\n  ' radio',\n  ' lifehack',\n  ' airplane',\n  ' techie',\n  ' sociobiology',\n  ' automobile',\n  ' saponify',\n  ' biocomputing',\n  ' rarefy',\n  ' actinochemistry',\n  ' technoid',\n  ' geroscience',\n  ' exobiology',\n  ' convertee',\n  ' transmogrify',\n  ' opacify',\n  ' conversive',\n  ' transchange',\n  ' neurophysics',\n  ' electrotelegraphy',\n  ' classicize',\n  ' transistor',\n  ' hydrolyze',\n  ' downshift',\n  ' cyberpsychology',\n  ' professionalize',\n  ' microphonics',\n  ' unscramble',\n  ' remew',\n  ' inactivate',\n  ' conventionalize',\n  ' bioclimatology',\n  ' sysop',\n  ' brutalize',\n  ' satellite',\n  ' telecommunication',\n  ' miniaturisation',\n  ' technologic',\n  ' tecnology',\n  ' gizmo',\n  ' photomicrography',\n  ' energid',\n  ' fiberoptics',\n  ' mirasol',\n  ' telerobotics',\n  ' relume',\n  ' fluidics',\n  ' idesia',\n  ' blueshift',\n  ' lightwave',\n  ' ceroma',\n  ' corrigent',\n  ' reflectent',\n  ' vocable',\n  ' seawell',\n  ' photomultipliers',\n  ' echoscope',\n  ' electromagnetics',\n  ' ultrasonics',\n  ' viridity',\n  ' micrographics',\n  ' orthogon',\n  ' chiliad',\n  ' autonomics',\n  ' aits',\n  ' tomograph',\n  ' biomimetics',\n  ' vadium',\n  ' snocone',\n  ' pyrometers',\n  ' architecture',\n  ' faust',\n  ' goethe',\n  ' technicism',\n  ' citizenship']]"
     },
     "execution_count": 19,
     "metadata": {},
     "output_type": "execute_result"
    }
   ],
   "source": [
    "my_verbalizer.label_words"
   ],
   "metadata": {
    "collapsed": false,
    "pycharm": {
     "name": "#%%\n"
    }
   }
  },
  {
   "cell_type": "code",
   "execution_count": 20,
   "outputs": [
    {
     "data": {
      "text/plain": "[376, 350, 287, 366]"
     },
     "execution_count": 20,
     "metadata": {},
     "output_type": "execute_result"
    }
   ],
   "source": [
    "org_label_words_num = [len(prompt_model.verbalizer.label_words[i]) for i in range(4)]\n",
    "org_label_words_num"
   ],
   "metadata": {
    "collapsed": false,
    "pycharm": {
     "name": "#%%\n"
    }
   }
  },
  {
   "cell_type": "code",
   "execution_count": 21,
   "outputs": [
    {
     "name": "stderr",
     "output_type": "stream",
     "text": [
      "ContextCali: 100%|██████████| 40/40 [00:04<00:00,  8.63it/s]\n"
     ]
    },
    {
     "name": "stdout",
     "output_type": "stream",
     "text": [
      "calibration logits is tensor([ 3.4085e+01, -4.2505e+00,  4.5795e+01,  ...,  4.3056e-02,\n",
      "         8.8509e-01,  2.6045e+01], device='cuda:0')\n"
     ]
    }
   ],
   "source": [
    "from openprompt.utils.calibrate import calibrate\n",
    "cc_logits = calibrate(prompt_model, support_dataloader)\n",
    "print('calibration logits is', cc_logits)"
   ],
   "metadata": {
    "collapsed": false,
    "pycharm": {
     "name": "#%%\n"
    }
   }
  },
  {
   "cell_type": "code",
   "execution_count": 23,
   "outputs": [
    {
     "name": "stdout",
     "output_type": "stream",
     "text": [
      "##Num of label words for each label: [223, 272, 230, 242]\n"
     ]
    }
   ],
   "source": [
    "prompt_model.verbalizer.register_calibrate_logits(logits=cc_logits)"
   ],
   "metadata": {
    "collapsed": false,
    "pycharm": {
     "name": "#%%\n"
    }
   }
  },
  {
   "cell_type": "code",
   "execution_count": 25,
   "outputs": [
    {
     "data": {
      "text/plain": "[223, 272, 230, 242]"
     },
     "execution_count": 25,
     "metadata": {},
     "output_type": "execute_result"
    }
   ],
   "source": [
    "new_label_words_num = [len(prompt_model.verbalizer.label_words[i]) for i in range(4)]\n",
    "new_label_words_num"
   ],
   "metadata": {
    "collapsed": false,
    "pycharm": {
     "name": "#%%\n"
    }
   }
  },
  {
   "cell_type": "code",
   "execution_count": 26,
   "outputs": [
    {
     "name": "stdout",
     "output_type": "stream",
     "text": [
      "Original number of label words per class: [376, 350, 287, 366] \n",
      " After filtering, number of label words per class: [223, 272, 230, 242]\n"
     ]
    }
   ],
   "source": [
    "print(\"Original number of label words per class: {} \\n After filtering, number of label words per class: {}\".format(org_label_words_num, new_label_words_num))"
   ],
   "metadata": {
    "collapsed": false,
    "pycharm": {
     "name": "#%%\n"
    }
   }
  },
  {
   "cell_type": "code",
   "execution_count": 27,
   "outputs": [
    {
     "name": "stderr",
     "output_type": "stream",
     "text": [
      "tokenizing: 7600it [00:06, 1100.14it/s]\n"
     ]
    }
   ],
   "source": [
    "test_dataloader = PromptDataLoader(dataset=dataset[\"test\"], template=my_template, tokenizer=tokenizer,\n",
    "    tokenizer_wrapper_class=WrapperClass, max_seq_length=512, decoder_max_length=3,\n",
    "    batch_size=5,shuffle=False, teacher_forcing=False, predict_eos_token=False,\n",
    "    truncate_method=\"tail\")"
   ],
   "metadata": {
    "collapsed": false,
    "pycharm": {
     "name": "#%%\n"
    }
   }
  },
  {
   "cell_type": "code",
   "execution_count": 29,
   "outputs": [
    {
     "name": "stderr",
     "output_type": "stream",
     "text": [
      "100%|██████████| 1520/1520 [02:24<00:00, 10.54it/s]\n"
     ]
    }
   ],
   "source": [
    "allpreds = []\n",
    "alllabels = []\n",
    "pbar = tqdm(test_dataloader)\n",
    "for step, inputs in enumerate(pbar):\n",
    "    if use_cuda:\n",
    "        inputs = inputs.cuda()\n",
    "    logits = prompt_model(inputs)\n",
    "    labels = inputs['label']\n",
    "    alllabels.extend(labels.cpu().tolist())\n",
    "    allpreds.extend(torch.argmax(logits, dim=-1).cpu().tolist())"
   ],
   "metadata": {
    "collapsed": false,
    "pycharm": {
     "name": "#%%\n"
    }
   }
  },
  {
   "cell_type": "code",
   "execution_count": 30,
   "outputs": [
    {
     "data": {
      "text/plain": "0.854078947368421"
     },
     "execution_count": 30,
     "metadata": {},
     "output_type": "execute_result"
    }
   ],
   "source": [
    "acc = sum([int(i==j) for i,j in zip(allpreds, alllabels)])/len(allpreds)\n",
    "acc"
   ],
   "metadata": {
    "collapsed": false,
    "pycharm": {
     "name": "#%%\n"
    }
   }
  }
 ],
 "metadata": {
  "kernelspec": {
   "display_name": "Python 3",
   "language": "python",
   "name": "python3"
  },
  "language_info": {
   "codemirror_mode": {
    "name": "ipython",
    "version": 2
   },
   "file_extension": ".py",
   "mimetype": "text/x-python",
   "name": "python",
   "nbconvert_exporter": "python",
   "pygments_lexer": "ipython2",
   "version": "2.7.6"
  }
 },
 "nbformat": 4,
 "nbformat_minor": 0
}